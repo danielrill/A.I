{
 "cells": [
  {
   "cell_type": "markdown",
   "metadata": {
    "id": "ZibLUEyDy2vP"
   },
   "source": [
    "## Run in cloab or not?"
   ]
  },
  {
   "cell_type": "code",
   "execution_count": 4,
   "metadata": {
    "id": "OBV7EYb8yNac"
   },
   "outputs": [],
   "source": [
    "try: #If running in colab \n",
    "    import google.colab\n",
    "    IN_COLAB = True \n",
    "    %tensorflow_version 2.x\n",
    "except:\n",
    "    IN_COLAB = False"
   ]
  },
  {
   "cell_type": "markdown",
   "metadata": {
    "id": "3OzNBFLUy-wE"
   },
   "source": [
    "## Check tensorflow version "
   ]
  },
  {
   "cell_type": "code",
   "execution_count": 5,
   "metadata": {
    "colab": {
     "base_uri": "https://localhost:8080/"
    },
    "executionInfo": {
     "elapsed": 3100,
     "status": "ok",
     "timestamp": 1654602854238,
     "user": {
      "displayName": "Sebastian Kaeser",
      "userId": "15997070859359265036"
     },
     "user_tz": -120
    },
    "id": "v1hz6fooyY8b",
    "outputId": "9f652fbe-7a38-434c-ef5f-2a1aaa5850a4"
   },
   "outputs": [],
   "source": [
    "import tensorflow as tf\n",
    "#if (not tf.__version__.startswith('2')): #Checking if tf 2.0 is installed\n",
    "#print('Please install tensorflow 2.0 to run this notebook')\n",
    "#print('Tensorflow version: ',tf.__version__, ' running in colab?: ', IN_COLAB)\n"
   ]
  },
  {
   "cell_type": "markdown",
   "metadata": {
    "id": "wxobFTgVzE9h"
   },
   "source": [
    "## All Imports"
   ]
  },
  {
   "cell_type": "code",
   "execution_count": 6,
   "metadata": {
    "id": "P5B1TAiHyarN"
   },
   "outputs": [],
   "source": [
    "import numpy as np\n",
    "import matplotlib.pyplot as plt\n",
    "%matplotlib inline\n",
    "plt.style.use('default')\n",
    "from sklearn.metrics import confusion_matrix\n",
    "\n",
    "import tensorflow.keras as keras\n",
    "from tensorflow.keras.models import Sequential\n",
    "from tensorflow.keras.layers import Dense, Convolution2D, MaxPooling2D, Flatten , Activation, Dropout\n",
    "from tensorflow.keras.utils import to_categorical \n",
    "from tensorflow.keras import optimizers"
   ]
  },
  {
   "cell_type": "code",
   "execution_count": 7,
   "metadata": {
    "id": "1KMeH2954gSR"
   },
   "outputs": [],
   "source": [
    "def printHistory(hr):\n",
    "  plt.figure(figsize=(12,4))\n",
    "  plt.subplot(1,2,(1))\n",
    "  plt.plot(hr.history['accuracy'],linestyle='-.')\n",
    "  plt.plot(hr.history['val_accuracy'])\n",
    "  plt.title('model accuracy')\n",
    "  plt.ylabel('accuracy')\n",
    "  plt.xlabel('epoch')\n",
    "  plt.legend(['train', 'valid'], loc='lower right')\n",
    "  plt.subplot(1,2,(2))\n",
    "  plt.plot(hr.history['loss'],linestyle='-.')\n",
    "  plt.plot(hr.history['val_loss'])\n",
    "  plt.title('model loss')\n",
    "  plt.ylabel('loss')\n",
    "  plt.xlabel('epoch')\n",
    "  plt.legend(['train', 'valid'], loc='upper right')"
   ]
  },
  {
   "cell_type": "markdown",
   "metadata": {
    "id": "Etzk0GVLzJ4O"
   },
   "source": [
    "## Load MNIST Dataset"
   ]
  },
  {
   "cell_type": "code",
   "execution_count": 8,
   "metadata": {
    "id": "1e23OJgeyuid"
   },
   "outputs": [
    {
     "name": "stdout",
     "output_type": "stream",
     "text": [
      "Downloading data from https://storage.googleapis.com/tensorflow/tf-keras-datasets/mnist.npz\n",
      "11493376/11490434 [==============================] - 26s 2us/step\n",
      "11501568/11490434 [==============================] - 26s 2us/step\n"
     ]
    }
   ],
   "source": [
    "from keras.datasets import mnist\n",
    "(x_train,y_train),(x_test,y_test) = mnist.load_data()\n",
    "\n",
    "X_train = x_train[0:50000] / 255\n",
    "Y_train = keras.utils.to_categorical(y_train[0:50000],10)\n",
    "\n",
    "X_val = x_train[50000:60000] / 255\n",
    "Y_val = keras.utils.to_categorical(y_train[50000:60000],10)\n",
    "\n",
    "X_test = x_test / 255\n",
    "Y_test = keras.utils.to_categorical(y_test,10)\n",
    "\n",
    "del x_train, y_train, x_test, y_test\n",
    "\n",
    "X_train = X_train.reshape(X_train.shape[0],28,28,1)\n",
    "X_val= X_val.reshape(X_val.shape[0],28,28,1)\n",
    "X_test= X_test.reshape(X_test.shape[0],28,28,1)\n"
   ]
  },
  {
   "cell_type": "markdown",
   "metadata": {
    "id": "afgOPJ8q0nRz"
   },
   "source": [
    "## Check Data Shape"
   ]
  },
  {
   "cell_type": "code",
   "execution_count": 9,
   "metadata": {
    "colab": {
     "base_uri": "https://localhost:8080/"
    },
    "executionInfo": {
     "elapsed": 5,
     "status": "ok",
     "timestamp": 1654602854551,
     "user": {
      "displayName": "Sebastian Kaeser",
      "userId": "15997070859359265036"
     },
     "user_tz": -120
    },
    "id": "g8avs1yzzRnj",
    "outputId": "4f1940b2-7d8f-4320-f453-f4294f24be4e"
   },
   "outputs": [
    {
     "name": "stdout",
     "output_type": "stream",
     "text": [
      "(50000, 28, 28, 1)\n",
      "(10000, 28, 28, 1)\n",
      "(10000, 28, 28, 1)\n",
      "(10000, 28, 28, 1)\n",
      "(50000, 10)\n",
      "(10000, 10)\n",
      "(10000, 10)\n"
     ]
    }
   ],
   "source": [
    "print(X_train.shape)\n",
    "print(X_val.shape)\n",
    "print(X_test.shape)\n",
    "print(X_test.shape)\n",
    "print(Y_train.shape)\n",
    "print(Y_val.shape)\n",
    "print(Y_test.shape)"
   ]
  },
  {
   "cell_type": "markdown",
   "metadata": {
    "id": "ObyMs-eQ1RIi"
   },
   "source": [
    "## Visualize some images"
   ]
  },
  {
   "cell_type": "code",
   "execution_count": 10,
   "metadata": {
    "colab": {
     "base_uri": "https://localhost:8080/",
     "height": 332
    },
    "executionInfo": {
     "elapsed": 479,
     "status": "ok",
     "timestamp": 1654602855027,
     "user": {
      "displayName": "Sebastian Kaeser",
      "userId": "15997070859359265036"
     },
     "user_tz": -120
    },
    "id": "mLVdhk_40HWj",
    "outputId": "7c69e4e2-6a09-470f-cc59-342f05a08178"
   },
   "outputs": [
    {
     "name": "stderr",
     "output_type": "stream",
     "text": [
      "<ipython-input-10-c9405a6d000e>:5: DeprecationWarning: `np.str` is a deprecated alias for the builtin `str`. To silence this warning, use `str` by itself. Doing this will not modify any behavior and is safe. If you specifically wanted the numpy scalar type, use `np.str_` here.\n",
      "Deprecated in NumPy 1.20; for more details and guidance: https://numpy.org/devdocs/release/1.20.0-notes.html#deprecations\n",
      "  plt.title('true label: ' + np.str(np.argmax(Y_train,axis=1)[i]))\n"
     ]
    },
    {
     "data": {
      "image/png": "[encoded data removed]",
      "text/plain": [
       "<Figure size 1200x1200 with 4 Axes>"
      ]
     },
     "metadata": {},
     "output_type": "display_data"
    }
   ],
   "source": [
    "\n",
    "plt.figure(figsize=(12,12))\n",
    "for i in range(0,4):\n",
    "  plt.subplot(1,4,(i+1))\n",
    "  plt.imshow((X_train[i,:,:,0]),cmap='gray')\n",
    "  plt.title('true label: ' + np.str(np.argmax(Y_train,axis=1)[i]))\n",
    "  plt.axis('off')"
   ]
  },
  {
   "cell_type": "markdown",
   "metadata": {
    "id": "vrPD1JOE2c_Q"
   },
   "source": [
    "## Flatten the vectors"
   ]
  },
  {
   "cell_type": "code",
   "execution_count": 11,
   "metadata": {
    "colab": {
     "base_uri": "https://localhost:8080/"
    },
    "executionInfo": {
     "elapsed": 4,
     "status": "ok",
     "timestamp": 1654602855027,
     "user": {
      "displayName": "Sebastian Kaeser",
      "userId": "15997070859359265036"
     },
     "user_tz": -120
    },
    "id": "GUph95So1TY9",
    "outputId": "38fe02b0-0469-4b52-8abd-e2e070ede9f5"
   },
   "outputs": [
    {
     "name": "stdout",
     "output_type": "stream",
     "text": [
      "(50000, 784)\n",
      "(50000, 10)\n",
      "(10000, 784)\n",
      "(10000, 10)\n"
     ]
    }
   ],
   "source": [
    "X_train_flat = X_train.reshape([X_train.shape[0],784])\n",
    "X_val_flat =X_val.reshape([X_val.shape[0],784])\n",
    "X_test_flat = X_test.reshape([X_test.shape[0],784])\n",
    "\n",
    "print(X_train_flat.shape)\n",
    "print(Y_train.shape)\n",
    "print(X_val_flat.shape)\n",
    "print(Y_val.shape)"
   ]
  },
  {
   "cell_type": "markdown",
   "metadata": {
    "id": "AezOiGPp3kRC"
   },
   "source": [
    "## Set up fcNN"
   ]
  },
  {
   "cell_type": "code",
   "execution_count": 25,
   "metadata": {
    "id": "N2ABpK_Q3dZH"
   },
   "outputs": [],
   "source": [
    "model = Sequential()\n",
    "\n",
    "model.add(Dense(100,batch_input_shape=(None,784),activation='relu'))\n",
    "model.add(Dense(50,activation='relu'))\n",
    "model.add(Dropout(0.5))\n",
    "model.add(Dense(10,activation='softmax'))\n",
    "\n",
    "model.compile(loss='categorical_crossentropy',\n",
    "              optimizer='adam',\n",
    "              metrics=['accuracy'])"
   ]
  },
  {
   "cell_type": "code",
   "execution_count": 26,
   "metadata": {
    "colab": {
     "base_uri": "https://localhost:8080/"
    },
    "executionInfo": {
     "elapsed": 9,
     "status": "ok",
     "timestamp": 1654602855229,
     "user": {
      "displayName": "Sebastian Kaeser",
      "userId": "15997070859359265036"
     },
     "user_tz": -120
    },
    "id": "uWu7fk-Y4FYq",
    "outputId": "1a36c895-e1e4-4eb7-f4b5-adf032b69ee1"
   },
   "outputs": [
    {
     "name": "stdout",
     "output_type": "stream",
     "text": [
      "Model: \"sequential_2\"\n",
      "_________________________________________________________________\n",
      " Layer (type)                Output Shape              Param #   \n",
      "=================================================================\n",
      " dense_4 (Dense)             (None, 100)               78500     \n",
      "                                                                 \n",
      " dense_5 (Dense)             (None, 50)                5050      \n",
      "                                                                 \n",
      " dropout_2 (Dropout)         (None, 50)                0         \n",
      "                                                                 \n",
      " dense_6 (Dense)             (None, 10)                510       \n",
      "                                                                 \n",
      "=================================================================\n",
      "Total params: 84,060\n",
      "Trainable params: 84,060\n",
      "Non-trainable params: 0\n",
      "_________________________________________________________________\n"
     ]
    }
   ],
   "source": [
    "model.summary()"
   ]
  },
  {
   "cell_type": "markdown",
   "metadata": {
    "id": "_kh88reh4eWj"
   },
   "source": [
    "## Train the Model"
   ]
  },
  {
   "cell_type": "code",
   "execution_count": 27,
   "metadata": {
    "colab": {
     "base_uri": "https://localhost:8080/"
    },
    "executionInfo": {
     "elapsed": 41585,
     "status": "ok",
     "timestamp": 1654602896809,
     "user": {
      "displayName": "Sebastian Kaeser",
      "userId": "15997070859359265036"
     },
     "user_tz": -120
    },
    "id": "rXLgs1xl4YHK",
    "outputId": "7a06cd9e-a1ed-4cc3-d9bc-0567b7eefb08"
   },
   "outputs": [
    {
     "name": "stdout",
     "output_type": "stream",
     "text": [
      "Epoch 1/15\n",
      "391/391 - 2s - loss: 0.6344 - accuracy: 0.8070 - val_loss: 0.1960 - val_accuracy: 0.9494 - 2s/epoch - 6ms/step\n",
      "Epoch 2/15\n",
      "391/391 - 2s - loss: 0.2849 - accuracy: 0.9208 - val_loss: 0.1525 - val_accuracy: 0.9572 - 2s/epoch - 4ms/step\n",
      "Epoch 3/15\n",
      "391/391 - 3s - loss: 0.2153 - accuracy: 0.9388 - val_loss: 0.1209 - val_accuracy: 0.9649 - 3s/epoch - 7ms/step\n",
      "Epoch 4/15\n",
      "391/391 - 3s - loss: 0.1769 - accuracy: 0.9500 - val_loss: 0.1121 - val_accuracy: 0.9667 - 3s/epoch - 7ms/step\n",
      "Epoch 5/15\n",
      "391/391 - 3s - loss: 0.1526 - accuracy: 0.9574 - val_loss: 0.1024 - val_accuracy: 0.9690 - 3s/epoch - 7ms/step\n",
      "Epoch 6/15\n",
      "391/391 - 2s - loss: 0.1320 - accuracy: 0.9621 - val_loss: 0.0945 - val_accuracy: 0.9728 - 2s/epoch - 6ms/step\n",
      "Epoch 7/15\n",
      "391/391 - 3s - loss: 0.1183 - accuracy: 0.9669 - val_loss: 0.0921 - val_accuracy: 0.9732 - 3s/epoch - 7ms/step\n",
      "Epoch 8/15\n",
      "391/391 - 3s - loss: 0.1049 - accuracy: 0.9695 - val_loss: 0.0852 - val_accuracy: 0.9736 - 3s/epoch - 7ms/step\n",
      "Epoch 9/15\n",
      "391/391 - 2s - loss: 0.0960 - accuracy: 0.9723 - val_loss: 0.0917 - val_accuracy: 0.9743 - 2s/epoch - 4ms/step\n",
      "Epoch 10/15\n",
      "391/391 - 3s - loss: 0.0881 - accuracy: 0.9745 - val_loss: 0.0900 - val_accuracy: 0.9751 - 3s/epoch - 7ms/step\n",
      "Epoch 11/15\n",
      "391/391 - 3s - loss: 0.0801 - accuracy: 0.9761 - val_loss: 0.0909 - val_accuracy: 0.9758 - 3s/epoch - 8ms/step\n",
      "Epoch 12/15\n",
      "391/391 - 3s - loss: 0.0743 - accuracy: 0.9783 - val_loss: 0.0841 - val_accuracy: 0.9791 - 3s/epoch - 8ms/step\n",
      "Epoch 13/15\n",
      "391/391 - 3s - loss: 0.0677 - accuracy: 0.9798 - val_loss: 0.0928 - val_accuracy: 0.9765 - 3s/epoch - 7ms/step\n",
      "Epoch 14/15\n",
      "391/391 - 2s - loss: 0.0596 - accuracy: 0.9817 - val_loss: 0.0874 - val_accuracy: 0.9775 - 2s/epoch - 6ms/step\n",
      "Epoch 15/15\n",
      "391/391 - 3s - loss: 0.0560 - accuracy: 0.9836 - val_loss: 0.0929 - val_accuracy: 0.9757 - 3s/epoch - 7ms/step\n"
     ]
    }
   ],
   "source": [
    "history = model.fit(X_train_flat,Y_train,\n",
    "                    batch_size=128,\n",
    "                    epochs=15,\n",
    "                    verbose=2,\n",
    "                    validation_data=(X_val_flat,Y_val))"
   ]
  },
  {
   "cell_type": "code",
   "execution_count": 28,
   "metadata": {
    "colab": {
     "base_uri": "https://localhost:8080/",
     "height": 410
    },
    "executionInfo": {
     "elapsed": 623,
     "status": "ok",
     "timestamp": 1654602897426,
     "user": {
      "displayName": "Sebastian Kaeser",
      "userId": "15997070859359265036"
     },
     "user_tz": -120
    },
    "id": "VqZG-guu5JGD",
    "outputId": "4919c050-f4f9-40dc-91bf-4343c3a6a092"
   },
   "outputs": [
    {
     "data": {
      "image/png": "[encoded data removed]",
      "text/plain": [
       "<Figure size 1200x400 with 2 Axes>"
      ]
     },
     "metadata": {},
     "output_type": "display_data"
    }
   ],
   "source": [
    "printHistory(history)"
   ]
  },
  {
   "cell_type": "markdown",
   "metadata": {
    "id": "7JP4Fd-l5YbY"
   },
   "source": [
    "## Make predictions"
   ]
  },
  {
   "cell_type": "code",
   "execution_count": 16,
   "metadata": {
    "colab": {
     "base_uri": "https://localhost:8080/"
    },
    "executionInfo": {
     "elapsed": 425,
     "status": "ok",
     "timestamp": 1654602897843,
     "user": {
      "displayName": "Sebastian Kaeser",
      "userId": "15997070859359265036"
     },
     "user_tz": -120
    },
    "id": "yYobnj475MgW",
    "outputId": "813dac40-7331-4ba9-e675-42a96d88514d"
   },
   "outputs": [
    {
     "name": "stdout",
     "output_type": "stream",
     "text": [
      "[[ 970    1    0    1    2    1    2    1    2    0]\n",
      " [   0 1121    2    1    0    1    6    2    1    1]\n",
      " [   7    1 1003    6    3    0    1    5    6    0]\n",
      " [   0    1    4  990    0    7    0    2    2    4]\n",
      " [   1    0    1    1  966    0    4    1    2    6]\n",
      " [   3    0    0   13    1  862    5    1    4    3]\n",
      " [   2    2    0    1    7    3  941    0    2    0]\n",
      " [   0    4    9    1    0    0    0 1003    1   10]\n",
      " [   6    0    4   10    5    2    3    3  937    4]\n",
      " [   2    3    0    5   19    0    0    4    0  976]]\n",
      "Acc_fc_orig_flat =  0.9769\n"
     ]
    }
   ],
   "source": [
    "pred = model.predict(X_test_flat)\n",
    "print(confusion_matrix(np.argmax(Y_test,axis=1),np.argmax(pred,axis=1)))\n",
    "acc_fc_orig = np.sum(np.argmax(Y_test,axis=1)== np.argmax(pred,axis=1)) / len(pred)\n",
    "print(\"Acc_fc_orig_flat = \" , acc_fc_orig)"
   ]
  },
  {
   "cell_type": "markdown",
   "metadata": {
    "id": "4JscAMl06RUA"
   },
   "source": [
    "## Aufgabe: \n",
    "Try to improve the fcNN by adding more hidden layers and/or changing the activation function from \"sigmoid\" to \"relu\". What do you observe? can you improve the performace on the testset?\n",
    "\n",
    "* Relu-Activation: Der Trainings-Loss wird geringer, jedoch wird der validation-Loss höher (Overfitting)\n",
    "\n",
    "* Dropout: Mit einem Dropout wird das Overfitting vermieden, validation-loss ist geringer\n",
    "\n",
    "* Weiterer Layer: Mit einem weiteren Layer wird wieder mehr Overfitting erzeugt"
   ]
  },
  {
   "cell_type": "markdown",
   "metadata": {
    "id": "cD35be1T8VCS"
   },
   "source": [
    "## Create a CNN"
   ]
  },
  {
   "cell_type": "code",
   "execution_count": 17,
   "metadata": {
    "id": "AS7gUvug8ZIz"
   },
   "outputs": [],
   "source": [
    "model2 = Sequential()\n",
    "\n",
    "input_shape = (28,28,1)\n",
    "\n",
    "model2.add(Convolution2D(32,kernel_size=(3,3),activation='relu',input_shape=input_shape))\n",
    "model2.add(MaxPooling2D(pool_size=(2,2)))\n",
    "model2.add(Convolution2D(64,kernel_size=(3,3),activation='relu'))\n",
    "model2.add(MaxPooling2D(pool_size=(2,2)))\n",
    "model2.add(Flatten())\n",
    "model2.add(Dropout(0.5))\n",
    "model2.add(Dense(10,activation='softmax'))\n",
    "\n",
    "\n",
    "model2.compile(optimizer='adam',loss='categorical_crossentropy',metrics=['accuracy'])\n",
    "\n",
    "model2.build()"
   ]
  },
  {
   "cell_type": "code",
   "execution_count": 18,
   "metadata": {
    "colab": {
     "base_uri": "https://localhost:8080/"
    },
    "executionInfo": {
     "elapsed": 28,
     "status": "ok",
     "timestamp": 1654602897844,
     "user": {
      "displayName": "Sebastian Kaeser",
      "userId": "15997070859359265036"
     },
     "user_tz": -120
    },
    "id": "w0HX_Cva97cv",
    "outputId": "3895419c-a1ea-431d-90d7-0e574f992e55"
   },
   "outputs": [
    {
     "name": "stdout",
     "output_type": "stream",
     "text": [
      "Model: \"sequential_1\"\n",
      "_________________________________________________________________\n",
      " Layer (type)                Output Shape              Param #   \n",
      "=================================================================\n",
      " conv2d (Conv2D)             (None, 26, 26, 32)        320       \n",
      "                                                                 \n",
      " max_pooling2d (MaxPooling2D  (None, 13, 13, 32)       0         \n",
      " )                                                               \n",
      "                                                                 \n",
      " conv2d_1 (Conv2D)           (None, 11, 11, 64)        18496     \n",
      "                                                                 \n",
      " max_pooling2d_1 (MaxPooling  (None, 5, 5, 64)         0         \n",
      " 2D)                                                             \n",
      "                                                                 \n",
      " flatten (Flatten)           (None, 1600)              0         \n",
      "                                                                 \n",
      " dropout_1 (Dropout)         (None, 1600)              0         \n",
      "                                                                 \n",
      " dense_3 (Dense)             (None, 10)                16010     \n",
      "                                                                 \n",
      "=================================================================\n",
      "Total params: 34,826\n",
      "Trainable params: 34,826\n",
      "Non-trainable params: 0\n",
      "_________________________________________________________________\n"
     ]
    }
   ],
   "source": [
    "model2.summary()"
   ]
  },
  {
   "cell_type": "markdown",
   "metadata": {
    "id": "3SXWfkqa_3Ub"
   },
   "source": [
    "## Train CNN"
   ]
  },
  {
   "cell_type": "code",
   "execution_count": 19,
   "metadata": {
    "colab": {
     "base_uri": "https://localhost:8080/"
    },
    "executionInfo": {
     "elapsed": 442833,
     "status": "ok",
     "timestamp": 1654603340667,
     "user": {
      "displayName": "Sebastian Kaeser",
      "userId": "15997070859359265036"
     },
     "user_tz": -120
    },
    "id": "9CaNESFQ983F",
    "outputId": "1cc84aab-e4dd-4de1-8015-722fe03ebf58"
   },
   "outputs": [
    {
     "name": "stdout",
     "output_type": "stream",
     "text": [
      "Epoch 1/10\n",
      "391/391 [==============================] - 22s 56ms/step - loss: 0.3834 - accuracy: 0.8834 - val_loss: 0.1012 - val_accuracy: 0.9703\n",
      "Epoch 2/10\n",
      "391/391 [==============================] - 23s 59ms/step - loss: 0.1178 - accuracy: 0.9641 - val_loss: 0.0682 - val_accuracy: 0.9823\n",
      "Epoch 3/10\n",
      "391/391 [==============================] - 23s 60ms/step - loss: 0.0894 - accuracy: 0.9732 - val_loss: 0.0600 - val_accuracy: 0.9841\n",
      "Epoch 4/10\n",
      "391/391 [==============================] - 24s 60ms/step - loss: 0.0747 - accuracy: 0.9776 - val_loss: 0.0499 - val_accuracy: 0.9863\n",
      "Epoch 5/10\n",
      "391/391 [==============================] - 24s 61ms/step - loss: 0.0648 - accuracy: 0.9803 - val_loss: 0.0437 - val_accuracy: 0.9881\n",
      "Epoch 6/10\n",
      "391/391 [==============================] - 25s 63ms/step - loss: 0.0575 - accuracy: 0.9821 - val_loss: 0.0418 - val_accuracy: 0.9874\n",
      "Epoch 7/10\n",
      "391/391 [==============================] - 25s 63ms/step - loss: 0.0526 - accuracy: 0.9836 - val_loss: 0.0420 - val_accuracy: 0.9885\n",
      "Epoch 8/10\n",
      "391/391 [==============================] - 24s 62ms/step - loss: 0.0494 - accuracy: 0.9842 - val_loss: 0.0381 - val_accuracy: 0.9897\n",
      "Epoch 9/10\n",
      "391/391 [==============================] - 23s 60ms/step - loss: 0.0481 - accuracy: 0.9844 - val_loss: 0.0384 - val_accuracy: 0.9888\n",
      "Epoch 10/10\n",
      "391/391 [==============================] - 23s 59ms/step - loss: 0.0448 - accuracy: 0.9856 - val_loss: 0.0379 - val_accuracy: 0.9899\n"
     ]
    }
   ],
   "source": [
    "history2 = model2.fit(X_train,Y_train,\n",
    "                     batch_size=128,\n",
    "                     epochs=10,\n",
    "                     verbose=1,\n",
    "                     validation_data=(X_val,Y_val))"
   ]
  },
  {
   "cell_type": "code",
   "execution_count": 20,
   "metadata": {
    "colab": {
     "base_uri": "https://localhost:8080/",
     "height": 410
    },
    "executionInfo": {
     "elapsed": 1249,
     "status": "ok",
     "timestamp": 1654603611742,
     "user": {
      "displayName": "Sebastian Kaeser",
      "userId": "15997070859359265036"
     },
     "user_tz": -120
    },
    "id": "5qnDiKIKAl5A",
    "outputId": "b802b2c3-af19-4f74-c3a3-0bbd427973c6"
   },
   "outputs": [
    {
     "data": {
      "image/png": "[encoded data removed]",
      "text/plain": [
       "<Figure size 1200x400 with 2 Axes>"
      ]
     },
     "metadata": {},
     "output_type": "display_data"
    }
   ],
   "source": [
    "printHistory(history2)"
   ]
  },
  {
   "cell_type": "code",
   "execution_count": 21,
   "metadata": {
    "colab": {
     "base_uri": "https://localhost:8080/"
    },
    "executionInfo": {
     "elapsed": 3430,
     "status": "ok",
     "timestamp": 1654603660198,
     "user": {
      "displayName": "Sebastian Kaeser",
      "userId": "15997070859359265036"
     },
     "user_tz": -120
    },
    "id": "kMSeSUw3_4ts",
    "outputId": "aa02232a-5288-43b5-8930-54f1ac857ce1"
   },
   "outputs": [
    {
     "name": "stdout",
     "output_type": "stream",
     "text": [
      "[[ 977    0    1    0    0    0    0    1    1    0]\n",
      " [   0 1131    2    0    0    0    1    1    0    0]\n",
      " [   1    1 1021    0    2    0    1    6    0    0]\n",
      " [   0    0    2  998    0    5    0    3    2    0]\n",
      " [   0    0    0    0  972    0    1    2    1    6]\n",
      " [   2    0    1    4    0  882    1    1    1    0]\n",
      " [   5    2    1    0    1    4  945    0    0    0]\n",
      " [   0    1    6    2    0    0    0 1016    1    2]\n",
      " [   3    0    2    0    1    1    1    4  959    3]\n",
      " [   2    3    2    0    2    3    0    5    2  990]]\n",
      "Acc_fc_orig_flat =  0.9891\n"
     ]
    }
   ],
   "source": [
    "pred = model2.predict(X_test)\n",
    "print(confusion_matrix(np.argmax(Y_test,axis=1),np.argmax(pred,axis=1)))\n",
    "acc_fc_orig = np.sum(np.argmax(Y_test,axis=1)== np.argmax(pred,axis=1)) / len(pred)\n",
    "print(\"Acc_fc_orig_flat = \" , acc_fc_orig)"
   ]
  },
  {
   "cell_type": "markdown",
   "metadata": {},
   "source": [
    "## Visualize Features of different Layers"
   ]
  },
  {
   "cell_type": "code",
   "execution_count": 22,
   "metadata": {
    "executionInfo": {
     "elapsed": 3,
     "status": "ok",
     "timestamp": 1654603819533,
     "user": {
      "displayName": "Sebastian Kaeser",
      "userId": "15997070859359265036"
     },
     "user_tz": -120
    },
    "id": "-HbvZQW9ECr_"
   },
   "outputs": [],
   "source": [
    "layer_outputs = [layer.output for layer in model2.layers]"
   ]
  },
  {
   "cell_type": "code",
   "execution_count": 24,
   "metadata": {
    "colab": {
     "base_uri": "https://localhost:8080/",
     "height": 307
    },
    "executionInfo": {
     "elapsed": 214,
     "status": "error",
     "timestamp": 1654604172736,
     "user": {
      "displayName": "Sebastian Kaeser",
      "userId": "15997070859359265036"
     },
     "user_tz": -120
    },
    "id": "64gYRjm3ElG8",
    "outputId": "9afc0346-c83a-4517-c73f-7a44ebc9ccf8"
   },
   "outputs": [
    {
     "ename": "TypeError",
     "evalue": "('Keyword argument not understood:', 'input')",
     "output_type": "error",
     "traceback": [
      "\u001b[1;31m---------------------------------------------------------------------------\u001b[0m",
      "\u001b[1;31mTypeError\u001b[0m                                 Traceback (most recent call last)",
      "\u001b[1;32m<ipython-input-24-0dcd45db2bad>\u001b[0m in \u001b[0;36m<module>\u001b[1;34m\u001b[0m\n\u001b[1;32m----> 1\u001b[1;33m \u001b[0mfeature_map_model\u001b[0m \u001b[1;33m=\u001b[0m \u001b[0mtf\u001b[0m\u001b[1;33m.\u001b[0m\u001b[0mkeras\u001b[0m\u001b[1;33m.\u001b[0m\u001b[0mmodels\u001b[0m\u001b[1;33m.\u001b[0m\u001b[0mModel\u001b[0m\u001b[1;33m(\u001b[0m\u001b[0minput\u001b[0m\u001b[1;33m=\u001b[0m\u001b[0mmodel\u001b[0m\u001b[1;33m.\u001b[0m\u001b[0minput\u001b[0m\u001b[1;33m,\u001b[0m \u001b[0moutput\u001b[0m\u001b[1;33m=\u001b[0m\u001b[0mlayer_outputs\u001b[0m\u001b[1;33m)\u001b[0m\u001b[1;33m\u001b[0m\u001b[1;33m\u001b[0m\u001b[0m\n\u001b[0m",
      "\u001b[1;32mc:\\phyton3\\lib\\site-packages\\tensorflow\\python\\training\\tracking\\base.py\u001b[0m in \u001b[0;36m_method_wrapper\u001b[1;34m(self, *args, **kwargs)\u001b[0m\n\u001b[0;32m    627\u001b[0m     \u001b[0mself\u001b[0m\u001b[1;33m.\u001b[0m\u001b[0m_self_setattr_tracking\u001b[0m \u001b[1;33m=\u001b[0m \u001b[1;32mFalse\u001b[0m  \u001b[1;31m# pylint: disable=protected-access\u001b[0m\u001b[1;33m\u001b[0m\u001b[1;33m\u001b[0m\u001b[0m\n\u001b[0;32m    628\u001b[0m     \u001b[1;32mtry\u001b[0m\u001b[1;33m:\u001b[0m\u001b[1;33m\u001b[0m\u001b[1;33m\u001b[0m\u001b[0m\n\u001b[1;32m--> 629\u001b[1;33m       \u001b[0mresult\u001b[0m \u001b[1;33m=\u001b[0m \u001b[0mmethod\u001b[0m\u001b[1;33m(\u001b[0m\u001b[0mself\u001b[0m\u001b[1;33m,\u001b[0m \u001b[1;33m*\u001b[0m\u001b[0margs\u001b[0m\u001b[1;33m,\u001b[0m \u001b[1;33m**\u001b[0m\u001b[0mkwargs\u001b[0m\u001b[1;33m)\u001b[0m\u001b[1;33m\u001b[0m\u001b[1;33m\u001b[0m\u001b[0m\n\u001b[0m\u001b[0;32m    630\u001b[0m     \u001b[1;32mfinally\u001b[0m\u001b[1;33m:\u001b[0m\u001b[1;33m\u001b[0m\u001b[1;33m\u001b[0m\u001b[0m\n\u001b[0;32m    631\u001b[0m       \u001b[0mself\u001b[0m\u001b[1;33m.\u001b[0m\u001b[0m_self_setattr_tracking\u001b[0m \u001b[1;33m=\u001b[0m \u001b[0mprevious_value\u001b[0m  \u001b[1;31m# pylint: disable=protected-access\u001b[0m\u001b[1;33m\u001b[0m\u001b[1;33m\u001b[0m\u001b[0m\n",
      "\u001b[1;32mc:\\phyton3\\lib\\site-packages\\keras\\utils\\traceback_utils.py\u001b[0m in \u001b[0;36merror_handler\u001b[1;34m(*args, **kwargs)\u001b[0m\n\u001b[0;32m     65\u001b[0m     \u001b[1;32mexcept\u001b[0m \u001b[0mException\u001b[0m \u001b[1;32mas\u001b[0m \u001b[0me\u001b[0m\u001b[1;33m:\u001b[0m  \u001b[1;31m# pylint: disable=broad-except\u001b[0m\u001b[1;33m\u001b[0m\u001b[1;33m\u001b[0m\u001b[0m\n\u001b[0;32m     66\u001b[0m       \u001b[0mfiltered_tb\u001b[0m \u001b[1;33m=\u001b[0m \u001b[0m_process_traceback_frames\u001b[0m\u001b[1;33m(\u001b[0m\u001b[0me\u001b[0m\u001b[1;33m.\u001b[0m\u001b[0m__traceback__\u001b[0m\u001b[1;33m)\u001b[0m\u001b[1;33m\u001b[0m\u001b[1;33m\u001b[0m\u001b[0m\n\u001b[1;32m---> 67\u001b[1;33m       \u001b[1;32mraise\u001b[0m \u001b[0me\u001b[0m\u001b[1;33m.\u001b[0m\u001b[0mwith_traceback\u001b[0m\u001b[1;33m(\u001b[0m\u001b[0mfiltered_tb\u001b[0m\u001b[1;33m)\u001b[0m \u001b[1;32mfrom\u001b[0m \u001b[1;32mNone\u001b[0m\u001b[1;33m\u001b[0m\u001b[1;33m\u001b[0m\u001b[0m\n\u001b[0m\u001b[0;32m     68\u001b[0m     \u001b[1;32mfinally\u001b[0m\u001b[1;33m:\u001b[0m\u001b[1;33m\u001b[0m\u001b[1;33m\u001b[0m\u001b[0m\n\u001b[0;32m     69\u001b[0m       \u001b[1;32mdel\u001b[0m \u001b[0mfiltered_tb\u001b[0m\u001b[1;33m\u001b[0m\u001b[1;33m\u001b[0m\u001b[0m\n",
      "\u001b[1;32mc:\\phyton3\\lib\\site-packages\\keras\\utils\\generic_utils.py\u001b[0m in \u001b[0;36mvalidate_kwargs\u001b[1;34m(kwargs, allowed_kwargs, error_message)\u001b[0m\n\u001b[0;32m   1172\u001b[0m   \u001b[1;32mfor\u001b[0m \u001b[0mkwarg\u001b[0m \u001b[1;32min\u001b[0m \u001b[0mkwargs\u001b[0m\u001b[1;33m:\u001b[0m\u001b[1;33m\u001b[0m\u001b[1;33m\u001b[0m\u001b[0m\n\u001b[0;32m   1173\u001b[0m     \u001b[1;32mif\u001b[0m \u001b[0mkwarg\u001b[0m \u001b[1;32mnot\u001b[0m \u001b[1;32min\u001b[0m \u001b[0mallowed_kwargs\u001b[0m\u001b[1;33m:\u001b[0m\u001b[1;33m\u001b[0m\u001b[1;33m\u001b[0m\u001b[0m\n\u001b[1;32m-> 1174\u001b[1;33m       \u001b[1;32mraise\u001b[0m \u001b[0mTypeError\u001b[0m\u001b[1;33m(\u001b[0m\u001b[0merror_message\u001b[0m\u001b[1;33m,\u001b[0m \u001b[0mkwarg\u001b[0m\u001b[1;33m)\u001b[0m\u001b[1;33m\u001b[0m\u001b[1;33m\u001b[0m\u001b[0m\n\u001b[0m\u001b[0;32m   1175\u001b[0m \u001b[1;33m\u001b[0m\u001b[0m\n\u001b[0;32m   1176\u001b[0m \u001b[1;33m\u001b[0m\u001b[0m\n",
      "\u001b[1;31mTypeError\u001b[0m: ('Keyword argument not understood:', 'input')"
     ]
    }
   ],
   "source": [
    "feature_map_model = tf.keras.models.Model(input=model.input, output=layer_outputs)"
   ]
  },
  {
   "cell_type": "code",
   "execution_count": null,
   "metadata": {
    "id": "qwnZAHf4Eyqb"
   },
   "outputs": [],
   "source": []
  }
 ],
 "metadata": {
  "accelerator": "TPU",
  "colab": {
   "authorship_tag": "ABX9TyOQRS+MNqU+3zDAZ8eJ1OnG",
   "collapsed_sections": [],
   "name": "Aufgabe2.ipynb",
   "provenance": []
  },
  "interpreter": {
   "hash": "5ceac2f8a3c77f838de45f753ad6f64273d731099a4ab6035460cd91680c2bdf"
  },
  "kernelspec": {
   "display_name": "Python 3.9.0 64-bit",
   "language": "python",
   "name": "python3"
  },
  "language_info": {
   "codemirror_mode": {
    "name": "ipython",
    "version": 3
   },
   "file_extension": ".py",
   "mimetype": "text/x-python",
   "name": "python",
   "nbconvert_exporter": "python",
   "pygments_lexer": "ipython3",
   "version": "3.9.0"
  }
 },
 "nbformat": 4,
 "nbformat_minor": 1
}
