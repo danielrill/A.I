{
 "cells": [
  {
   "cell_type": "code",
   "execution_count": 159,
   "metadata": {},
   "outputs": [],
   "source": [
    "import tensorflow as tf\n",
    "from tensorflow import keras\n",
    "from keras import layers\n",
    "from keras.models import Sequential\n",
    "from keras.layers import Dense\n",
    "from sklearn.model_selection import train_test_split\n",
    "#import tensorflow.keras.layers.BatchNormalization\n",
    "import pandas as pd\n",
    "import numpy as np\n",
    "import matplotlib.pyplot as plt\n",
    "%matplotlib inline\n",
    "plt.style.use('default')\n"
   ]
  },
  {
   "cell_type": "code",
   "execution_count": 160,
   "metadata": {},
   "outputs": [],
   "source": [
    "from tensorflow_history_plot import show_acc\n"
   ]
  },
  {
   "cell_type": "code",
   "execution_count": 161,
   "metadata": {},
   "outputs": [],
   "source": [
    "train_data = pd.read_csv('train.csv')\n",
    "test_data = pd.read_csv('test.csv')\n",
    "combi = [train_data, test_data]\n"
   ]
  },
  {
   "cell_type": "code",
   "execution_count": 162,
   "metadata": {},
   "outputs": [
    {
     "data": {
      "text/plain": [
       "((891,), (891,), (418,))"
      ]
     },
     "execution_count": 162,
     "metadata": {},
     "output_type": "execute_result"
    }
   ],
   "source": [
    "X_train = train_data[\"Pclass\"]\n",
    "Y_train = train_data[\"Survived\"]\n",
    "\n",
    "X_test = test_data[\"Pclass\"]\n",
    "X_train.shape, Y_train.shape, X_test.shape\n"
   ]
  },
  {
   "cell_type": "code",
   "execution_count": 163,
   "metadata": {},
   "outputs": [
    {
     "data": {
      "text/plain": [
       "((891, 4), (418, 3))"
      ]
     },
     "execution_count": 163,
     "metadata": {},
     "output_type": "execute_result"
    }
   ],
   "source": [
    "train_data = train_data.drop(\n",
    "    ['Name', 'PassengerId', 'Ticket', 'Cabin', 'SibSp', 'Parch', 'Fare', 'Embarked'], axis=1)\n",
    "test_data = test_data.drop(\n",
    "    ['Name', 'PassengerId', 'Ticket', 'Cabin', 'SibSp', 'Parch', 'Fare', 'Embarked'], axis=1)\n",
    "combi = [train_data, test_data]\n",
    "\n",
    "train_data.shape, test_data.shape\n"
   ]
  },
  {
   "cell_type": "code",
   "execution_count": 164,
   "metadata": {},
   "outputs": [
    {
     "data": {
      "text/plain": [
       "((712, 3), (179, 3), (712,), (179,))"
      ]
     },
     "execution_count": 164,
     "metadata": {},
     "output_type": "execute_result"
    }
   ],
   "source": [
    "X_train1, X_test1, Y_train1, Y_test1 = train_test_split(\n",
    "    train_data[[\"Pclass\", \"Sex\", \"Age\"]], train_data[\"Survived\"], test_size=0.2, random_state=42)\n",
    "\n",
    "X_train1.shape, X_test1.shape, Y_train1.shape, Y_test1.shape\n"
   ]
  },
  {
   "cell_type": "code",
   "execution_count": 165,
   "metadata": {},
   "outputs": [],
   "source": [
    "# Map auf numersiche Werte\n",
    "\n",
    "train_data['Sex'] = train_data['Sex'].map({'female': 1, 'male': 0}).astype(int)\n",
    "test_data['Sex'] = test_data['Sex'].map({'female': 1, 'male': 0}).astype(int)\n",
    "\n",
    "# fill auf Age\n",
    "train_data[\"Age\"].fillna(train_data[\"Age\"].median(skipna=True), inplace=True)\n",
    "test_data[\"Age\"].fillna(test_data[\"Age\"].median(skipna=True), inplace=True)\n",
    "\n",
    "X_train1[\"Age\"].fillna(X_train1[\"Age\"].median(skipna=True), inplace=True)\n",
    "X_test1[\"Age\"].fillna(X_test1[\"Age\"].median(skipna=True), inplace=True)\n",
    "\n",
    "\n",
    "X_train1['Sex'] = X_train1['Sex'].map({'female': 1, 'male': 0}).astype(int)\n",
    "X_test1['Sex'] = X_test1['Sex'].map({'female': 1, 'male': 0}).astype(int)\n"
   ]
  },
  {
   "cell_type": "code",
   "execution_count": 166,
   "metadata": {},
   "outputs": [
    {
     "data": {
      "text/plain": [
       "(   Survived  Pclass  Sex   Age\n",
       " 0         0       3    0  22.0\n",
       " 1         1       1    1  38.0\n",
       " 2         1       3    1  26.0\n",
       " 3         1       1    1  35.0\n",
       " 4         0       3    0  35.0,\n",
       "    Pclass  Sex   Age\n",
       " 0       3    0  34.5\n",
       " 1       3    1  47.0\n",
       " 2       2    0  62.0\n",
       " 3       3    0  27.0\n",
       " 4       3    1  22.0)"
      ]
     },
     "execution_count": 166,
     "metadata": {},
     "output_type": "execute_result"
    }
   ],
   "source": [
    "train_data.head() , test_data.head()"
   ]
  },
  {
   "cell_type": "code",
   "execution_count": 167,
   "metadata": {},
   "outputs": [
    {
     "data": {
      "text/plain": [
       "((891, 4), (418, 3))"
      ]
     },
     "execution_count": 167,
     "metadata": {},
     "output_type": "execute_result"
    }
   ],
   "source": [
    "train_data.shape, test_data.shape\n"
   ]
  },
  {
   "cell_type": "code",
   "execution_count": 168,
   "metadata": {},
   "outputs": [
    {
     "data": {
      "text/plain": [
       "((891, 3), (891,), (418,))"
      ]
     },
     "execution_count": 168,
     "metadata": {},
     "output_type": "execute_result"
    }
   ],
   "source": [
    "X_train = train_data[[\"Pclass\",\"Sex\",\"Age\"]]\n",
    "Y_train = train_data[\"Survived\"]\n",
    "\n",
    "\n",
    "X_test = test_data[\"Pclass\"]\n",
    "\n",
    "X_train.shape, Y_train.shape, X_test.shape\n"
   ]
  },
  {
   "cell_type": "code",
   "execution_count": 169,
   "metadata": {},
   "outputs": [
    {
     "data": {
      "text/html": [
       "<div>\n",
       "<style scoped>\n",
       "    .dataframe tbody tr th:only-of-type {\n",
       "        vertical-align: middle;\n",
       "    }\n",
       "\n",
       "    .dataframe tbody tr th {\n",
       "        vertical-align: top;\n",
       "    }\n",
       "\n",
       "    .dataframe thead th {\n",
       "        text-align: right;\n",
       "    }\n",
       "</style>\n",
       "<table border=\"1\" class=\"dataframe\">\n",
       "  <thead>\n",
       "    <tr style=\"text-align: right;\">\n",
       "      <th></th>\n",
       "      <th>Pclass</th>\n",
       "      <th>Sex</th>\n",
       "      <th>Age</th>\n",
       "    </tr>\n",
       "  </thead>\n",
       "  <tbody>\n",
       "    <tr>\n",
       "      <th>331</th>\n",
       "      <td>1</td>\n",
       "      <td>0</td>\n",
       "      <td>45.5</td>\n",
       "    </tr>\n",
       "    <tr>\n",
       "      <th>733</th>\n",
       "      <td>2</td>\n",
       "      <td>0</td>\n",
       "      <td>23.0</td>\n",
       "    </tr>\n",
       "    <tr>\n",
       "      <th>382</th>\n",
       "      <td>3</td>\n",
       "      <td>0</td>\n",
       "      <td>32.0</td>\n",
       "    </tr>\n",
       "    <tr>\n",
       "      <th>704</th>\n",
       "      <td>3</td>\n",
       "      <td>0</td>\n",
       "      <td>26.0</td>\n",
       "    </tr>\n",
       "    <tr>\n",
       "      <th>813</th>\n",
       "      <td>3</td>\n",
       "      <td>1</td>\n",
       "      <td>6.0</td>\n",
       "    </tr>\n",
       "    <tr>\n",
       "      <th>...</th>\n",
       "      <td>...</td>\n",
       "      <td>...</td>\n",
       "      <td>...</td>\n",
       "    </tr>\n",
       "    <tr>\n",
       "      <th>106</th>\n",
       "      <td>3</td>\n",
       "      <td>1</td>\n",
       "      <td>21.0</td>\n",
       "    </tr>\n",
       "    <tr>\n",
       "      <th>270</th>\n",
       "      <td>1</td>\n",
       "      <td>0</td>\n",
       "      <td>28.0</td>\n",
       "    </tr>\n",
       "    <tr>\n",
       "      <th>860</th>\n",
       "      <td>3</td>\n",
       "      <td>0</td>\n",
       "      <td>41.0</td>\n",
       "    </tr>\n",
       "    <tr>\n",
       "      <th>435</th>\n",
       "      <td>1</td>\n",
       "      <td>1</td>\n",
       "      <td>14.0</td>\n",
       "    </tr>\n",
       "    <tr>\n",
       "      <th>102</th>\n",
       "      <td>1</td>\n",
       "      <td>0</td>\n",
       "      <td>21.0</td>\n",
       "    </tr>\n",
       "  </tbody>\n",
       "</table>\n",
       "<p>712 rows × 3 columns</p>\n",
       "</div>"
      ],
      "text/plain": [
       "     Pclass  Sex   Age\n",
       "331       1    0  45.5\n",
       "733       2    0  23.0\n",
       "382       3    0  32.0\n",
       "704       3    0  26.0\n",
       "813       3    1   6.0\n",
       "..      ...  ...   ...\n",
       "106       3    1  21.0\n",
       "270       1    0  28.0\n",
       "860       3    0  41.0\n",
       "435       1    1  14.0\n",
       "102       1    0  21.0\n",
       "\n",
       "[712 rows x 3 columns]"
      ]
     },
     "execution_count": 169,
     "metadata": {},
     "output_type": "execute_result"
    }
   ],
   "source": [
    "Y_test = np.asarray(X_test).astype('float32').reshape((-1, 1))\n",
    "X_test = np.asarray(X_test).astype('float32').reshape((-1, 1))\n",
    "X_train = np.asarray(X_train).astype('float32').reshape((-1, 3))\n",
    "Y_train = np.asarray(Y_train).astype('float32').reshape((-1, 1))\n",
    "X_train.shape, Y_train.shape, X_test.shape\n",
    "\n",
    "X_train1\n"
   ]
  },
  {
   "cell_type": "code",
   "execution_count": 170,
   "metadata": {},
   "outputs": [
    {
     "data": {
      "text/plain": [
       "((712, 3), (712, 1), (179, 3), (179, 1))"
      ]
     },
     "execution_count": 170,
     "metadata": {},
     "output_type": "execute_result"
    }
   ],
   "source": [
    "X_train1 = np.asarray(X_train1).astype('float32').reshape((-1, 3))\n",
    "X_test1 = np.asarray(X_test1).astype('float32').reshape((-1, 3))\n",
    "Y_train1 = np.asarray(Y_train1).astype('float32').reshape((-1, 1))\n",
    "Y_test1 = np.asarray(Y_test1).astype('float32').reshape((-1, 1))\n",
    "\n",
    "X_train1.shape, Y_train1.shape, X_test1.shape, Y_test1.shape\n"
   ]
  },
  {
   "cell_type": "code",
   "execution_count": 175,
   "metadata": {},
   "outputs": [
    {
     "name": "stdout",
     "output_type": "stream",
     "text": [
      "Epoch 1/100\n",
      "23/23 [==============================] - 1s 19ms/step - loss: 0.7532 - accuracy: 0.5646 - val_loss: 0.6761 - val_accuracy: 0.5866\n",
      "Epoch 2/100\n",
      "23/23 [==============================] - 0s 12ms/step - loss: 0.6918 - accuracy: 0.5815 - val_loss: 0.7525 - val_accuracy: 0.5866\n",
      "Epoch 3/100\n",
      "23/23 [==============================] - 0s 12ms/step - loss: 0.6749 - accuracy: 0.6067 - val_loss: 0.6857 - val_accuracy: 0.5866\n",
      "Epoch 4/100\n",
      "23/23 [==============================] - 0s 12ms/step - loss: 0.6694 - accuracy: 0.6348 - val_loss: 0.6676 - val_accuracy: 0.6089\n",
      "Epoch 5/100\n",
      "23/23 [==============================] - 0s 12ms/step - loss: 0.6567 - accuracy: 0.6306 - val_loss: 0.7275 - val_accuracy: 0.5866\n",
      "Epoch 6/100\n",
      "23/23 [==============================] - 0s 12ms/step - loss: 0.6723 - accuracy: 0.5969 - val_loss: 0.6592 - val_accuracy: 0.5978\n",
      "Epoch 7/100\n",
      "23/23 [==============================] - 0s 12ms/step - loss: 0.6609 - accuracy: 0.6390 - val_loss: 0.6964 - val_accuracy: 0.5922\n",
      "Epoch 8/100\n",
      "23/23 [==============================] - 0s 13ms/step - loss: 0.6638 - accuracy: 0.6390 - val_loss: 0.6469 - val_accuracy: 0.6592\n",
      "Epoch 9/100\n",
      "23/23 [==============================] - 0s 12ms/step - loss: 0.6673 - accuracy: 0.6180 - val_loss: 0.6474 - val_accuracy: 0.6089\n",
      "Epoch 10/100\n",
      "23/23 [==============================] - 0s 12ms/step - loss: 0.6317 - accuracy: 0.6475 - val_loss: 0.6588 - val_accuracy: 0.6145\n",
      "Epoch 11/100\n",
      "23/23 [==============================] - 0s 13ms/step - loss: 0.6061 - accuracy: 0.6615 - val_loss: 0.5835 - val_accuracy: 0.6760\n",
      "Epoch 12/100\n",
      "23/23 [==============================] - 0s 12ms/step - loss: 0.5713 - accuracy: 0.7205 - val_loss: 0.5711 - val_accuracy: 0.6425\n",
      "Epoch 13/100\n",
      "23/23 [==============================] - 0s 12ms/step - loss: 0.5258 - accuracy: 0.7753 - val_loss: 0.6341 - val_accuracy: 0.6313\n",
      "Epoch 14/100\n",
      "23/23 [==============================] - 0s 15ms/step - loss: 0.5679 - accuracy: 0.7247 - val_loss: 0.4660 - val_accuracy: 0.7821\n",
      "Epoch 15/100\n",
      "23/23 [==============================] - 0s 13ms/step - loss: 0.4816 - accuracy: 0.7851 - val_loss: 0.4425 - val_accuracy: 0.8212\n",
      "Epoch 16/100\n",
      "23/23 [==============================] - 0s 14ms/step - loss: 0.4677 - accuracy: 0.7809 - val_loss: 0.4474 - val_accuracy: 0.7709\n",
      "Epoch 17/100\n",
      "23/23 [==============================] - 0s 14ms/step - loss: 0.4770 - accuracy: 0.7697 - val_loss: 0.4268 - val_accuracy: 0.8101\n",
      "Epoch 18/100\n",
      "23/23 [==============================] - 0s 14ms/step - loss: 0.4783 - accuracy: 0.7823 - val_loss: 0.4480 - val_accuracy: 0.7765\n",
      "Epoch 19/100\n",
      "23/23 [==============================] - 0s 15ms/step - loss: 0.4683 - accuracy: 0.7767 - val_loss: 0.4222 - val_accuracy: 0.8101\n",
      "Epoch 20/100\n",
      "23/23 [==============================] - 0s 14ms/step - loss: 0.4617 - accuracy: 0.8062 - val_loss: 0.4301 - val_accuracy: 0.8156\n",
      "Epoch 21/100\n",
      "23/23 [==============================] - 0s 14ms/step - loss: 0.4708 - accuracy: 0.7907 - val_loss: 0.4331 - val_accuracy: 0.8045\n",
      "Epoch 22/100\n",
      "23/23 [==============================] - 0s 13ms/step - loss: 0.4625 - accuracy: 0.7921 - val_loss: 0.4216 - val_accuracy: 0.8101\n",
      "Epoch 23/100\n",
      "23/23 [==============================] - 0s 13ms/step - loss: 0.4607 - accuracy: 0.7823 - val_loss: 0.4290 - val_accuracy: 0.8101\n",
      "Epoch 24/100\n",
      "23/23 [==============================] - 0s 14ms/step - loss: 0.4565 - accuracy: 0.7978 - val_loss: 0.4423 - val_accuracy: 0.7765\n",
      "Epoch 25/100\n",
      "23/23 [==============================] - 0s 13ms/step - loss: 0.4594 - accuracy: 0.7893 - val_loss: 0.4337 - val_accuracy: 0.7877\n",
      "Epoch 26/100\n",
      "23/23 [==============================] - 0s 14ms/step - loss: 0.4789 - accuracy: 0.7781 - val_loss: 0.4488 - val_accuracy: 0.7765\n",
      "Epoch 27/100\n",
      "23/23 [==============================] - 0s 13ms/step - loss: 0.4656 - accuracy: 0.7865 - val_loss: 0.4589 - val_accuracy: 0.7709\n",
      "Epoch 28/100\n",
      "23/23 [==============================] - 0s 13ms/step - loss: 0.4551 - accuracy: 0.7851 - val_loss: 0.4248 - val_accuracy: 0.8101\n",
      "Epoch 29/100\n",
      "23/23 [==============================] - 0s 13ms/step - loss: 0.4553 - accuracy: 0.7865 - val_loss: 0.4397 - val_accuracy: 0.7989\n",
      "Epoch 30/100\n",
      "23/23 [==============================] - 0s 13ms/step - loss: 0.4543 - accuracy: 0.7921 - val_loss: 0.4275 - val_accuracy: 0.7933\n",
      "Epoch 31/100\n",
      "23/23 [==============================] - 0s 13ms/step - loss: 0.4545 - accuracy: 0.7992 - val_loss: 0.4243 - val_accuracy: 0.8101\n",
      "Epoch 32/100\n",
      "23/23 [==============================] - 0s 13ms/step - loss: 0.5069 - accuracy: 0.7711 - val_loss: 0.4999 - val_accuracy: 0.7709\n",
      "Epoch 33/100\n",
      "23/23 [==============================] - 0s 12ms/step - loss: 0.4637 - accuracy: 0.7992 - val_loss: 0.4245 - val_accuracy: 0.7933\n",
      "Epoch 34/100\n",
      "23/23 [==============================] - 0s 14ms/step - loss: 0.4527 - accuracy: 0.7978 - val_loss: 0.4360 - val_accuracy: 0.7765\n",
      "Epoch 35/100\n",
      "23/23 [==============================] - 0s 13ms/step - loss: 0.4558 - accuracy: 0.7893 - val_loss: 0.4336 - val_accuracy: 0.8045\n",
      "Epoch 36/100\n",
      "23/23 [==============================] - 0s 13ms/step - loss: 0.4484 - accuracy: 0.7963 - val_loss: 0.4365 - val_accuracy: 0.7765\n",
      "Epoch 37/100\n",
      "23/23 [==============================] - 0s 13ms/step - loss: 0.4516 - accuracy: 0.7935 - val_loss: 0.4360 - val_accuracy: 0.7765\n",
      "Epoch 38/100\n",
      "23/23 [==============================] - 0s 16ms/step - loss: 0.4760 - accuracy: 0.7921 - val_loss: 0.4259 - val_accuracy: 0.7933\n",
      "Epoch 39/100\n",
      "23/23 [==============================] - 0s 13ms/step - loss: 0.4533 - accuracy: 0.7978 - val_loss: 0.4366 - val_accuracy: 0.8045\n",
      "Epoch 40/100\n",
      "23/23 [==============================] - 0s 14ms/step - loss: 0.4688 - accuracy: 0.7893 - val_loss: 0.4601 - val_accuracy: 0.7821\n",
      "Epoch 41/100\n",
      "23/23 [==============================] - 0s 13ms/step - loss: 0.4568 - accuracy: 0.7907 - val_loss: 0.4272 - val_accuracy: 0.7933\n",
      "Epoch 42/100\n",
      "23/23 [==============================] - 0s 13ms/step - loss: 0.4476 - accuracy: 0.7992 - val_loss: 0.4373 - val_accuracy: 0.7877\n",
      "Epoch 43/100\n",
      "23/23 [==============================] - 0s 13ms/step - loss: 0.4593 - accuracy: 0.8034 - val_loss: 0.5253 - val_accuracy: 0.7709\n",
      "Epoch 44/100\n",
      "23/23 [==============================] - 0s 14ms/step - loss: 0.4672 - accuracy: 0.7809 - val_loss: 0.4416 - val_accuracy: 0.7877\n",
      "Epoch 45/100\n",
      "23/23 [==============================] - 0s 15ms/step - loss: 0.4598 - accuracy: 0.8034 - val_loss: 0.4760 - val_accuracy: 0.7709\n",
      "Epoch 46/100\n",
      "23/23 [==============================] - 0s 14ms/step - loss: 0.4591 - accuracy: 0.7823 - val_loss: 0.4584 - val_accuracy: 0.7877\n",
      "Epoch 47/100\n",
      "23/23 [==============================] - 0s 13ms/step - loss: 0.4575 - accuracy: 0.8034 - val_loss: 0.4324 - val_accuracy: 0.7877\n",
      "Epoch 48/100\n",
      "23/23 [==============================] - 0s 13ms/step - loss: 0.4472 - accuracy: 0.8006 - val_loss: 0.4255 - val_accuracy: 0.7933\n",
      "Epoch 49/100\n",
      "23/23 [==============================] - 0s 13ms/step - loss: 0.4492 - accuracy: 0.8048 - val_loss: 0.4308 - val_accuracy: 0.7933\n",
      "Epoch 50/100\n",
      "23/23 [==============================] - 0s 13ms/step - loss: 0.4426 - accuracy: 0.8104 - val_loss: 0.4287 - val_accuracy: 0.7821\n",
      "Epoch 51/100\n",
      "23/23 [==============================] - 0s 13ms/step - loss: 0.4461 - accuracy: 0.7978 - val_loss: 0.4273 - val_accuracy: 0.7765\n",
      "Epoch 52/100\n",
      "23/23 [==============================] - 0s 13ms/step - loss: 0.4545 - accuracy: 0.7907 - val_loss: 0.4301 - val_accuracy: 0.7989\n",
      "Epoch 53/100\n",
      "23/23 [==============================] - 0s 13ms/step - loss: 0.4461 - accuracy: 0.8118 - val_loss: 0.4249 - val_accuracy: 0.7933\n",
      "Epoch 54/100\n",
      "23/23 [==============================] - 0s 13ms/step - loss: 0.4453 - accuracy: 0.8090 - val_loss: 0.4517 - val_accuracy: 0.7877\n",
      "Epoch 55/100\n",
      "23/23 [==============================] - 0s 13ms/step - loss: 0.4565 - accuracy: 0.7907 - val_loss: 0.4465 - val_accuracy: 0.8101\n",
      "Epoch 56/100\n",
      "23/23 [==============================] - 0s 14ms/step - loss: 0.4618 - accuracy: 0.7879 - val_loss: 0.4244 - val_accuracy: 0.7933\n",
      "Epoch 57/100\n",
      "23/23 [==============================] - 0s 14ms/step - loss: 0.4443 - accuracy: 0.7949 - val_loss: 0.4213 - val_accuracy: 0.7933\n",
      "Epoch 58/100\n",
      "23/23 [==============================] - 0s 14ms/step - loss: 0.4430 - accuracy: 0.7978 - val_loss: 0.4270 - val_accuracy: 0.7989\n",
      "Epoch 59/100\n",
      "23/23 [==============================] - 0s 14ms/step - loss: 0.4980 - accuracy: 0.7893 - val_loss: 0.4628 - val_accuracy: 0.8045\n",
      "Epoch 60/100\n",
      "23/23 [==============================] - 0s 13ms/step - loss: 0.4482 - accuracy: 0.8034 - val_loss: 0.4458 - val_accuracy: 0.8101\n",
      "Epoch 61/100\n",
      "23/23 [==============================] - 0s 14ms/step - loss: 0.4479 - accuracy: 0.8020 - val_loss: 0.4272 - val_accuracy: 0.7933\n",
      "Epoch 62/100\n",
      "23/23 [==============================] - 0s 13ms/step - loss: 0.4600 - accuracy: 0.8076 - val_loss: 0.4277 - val_accuracy: 0.7933\n",
      "Epoch 63/100\n",
      "23/23 [==============================] - 0s 14ms/step - loss: 0.4500 - accuracy: 0.7963 - val_loss: 0.4290 - val_accuracy: 0.7933\n",
      "Epoch 64/100\n",
      "23/23 [==============================] - 0s 13ms/step - loss: 0.4404 - accuracy: 0.7992 - val_loss: 0.4251 - val_accuracy: 0.7821\n",
      "Epoch 65/100\n",
      "23/23 [==============================] - 0s 14ms/step - loss: 0.4710 - accuracy: 0.7935 - val_loss: 0.4541 - val_accuracy: 0.7765\n",
      "Epoch 66/100\n",
      "23/23 [==============================] - 0s 13ms/step - loss: 0.4702 - accuracy: 0.7809 - val_loss: 0.4507 - val_accuracy: 0.8101\n",
      "Epoch 67/100\n",
      "23/23 [==============================] - 0s 13ms/step - loss: 0.4441 - accuracy: 0.8034 - val_loss: 0.4270 - val_accuracy: 0.7877\n",
      "Epoch 68/100\n",
      "23/23 [==============================] - 0s 14ms/step - loss: 0.4441 - accuracy: 0.7949 - val_loss: 0.4431 - val_accuracy: 0.7877\n",
      "Epoch 69/100\n",
      "23/23 [==============================] - 0s 13ms/step - loss: 0.4460 - accuracy: 0.7992 - val_loss: 0.4295 - val_accuracy: 0.7877\n",
      "Epoch 70/100\n",
      "23/23 [==============================] - 0s 12ms/step - loss: 0.4406 - accuracy: 0.7949 - val_loss: 0.4272 - val_accuracy: 0.7933\n",
      "Epoch 71/100\n",
      "23/23 [==============================] - 0s 15ms/step - loss: 0.4420 - accuracy: 0.7992 - val_loss: 0.4404 - val_accuracy: 0.7765\n",
      "Epoch 72/100\n",
      "23/23 [==============================] - 0s 14ms/step - loss: 0.4335 - accuracy: 0.8048 - val_loss: 0.4538 - val_accuracy: 0.8101\n",
      "Epoch 73/100\n",
      "23/23 [==============================] - 0s 15ms/step - loss: 0.4521 - accuracy: 0.7978 - val_loss: 0.4222 - val_accuracy: 0.7933\n",
      "Epoch 74/100\n",
      "23/23 [==============================] - 0s 15ms/step - loss: 0.4472 - accuracy: 0.7949 - val_loss: 0.4260 - val_accuracy: 0.7877\n",
      "Epoch 75/100\n",
      "23/23 [==============================] - 0s 14ms/step - loss: 0.4410 - accuracy: 0.7963 - val_loss: 0.4375 - val_accuracy: 0.7765\n",
      "Epoch 76/100\n",
      "23/23 [==============================] - 0s 13ms/step - loss: 0.4457 - accuracy: 0.8020 - val_loss: 0.4313 - val_accuracy: 0.7877\n",
      "Epoch 77/100\n",
      "23/23 [==============================] - 0s 15ms/step - loss: 0.4492 - accuracy: 0.8020 - val_loss: 0.4692 - val_accuracy: 0.8045\n",
      "Epoch 78/100\n",
      "23/23 [==============================] - 0s 14ms/step - loss: 0.4500 - accuracy: 0.8076 - val_loss: 0.4289 - val_accuracy: 0.7933\n",
      "Epoch 79/100\n",
      "23/23 [==============================] - 0s 13ms/step - loss: 0.4378 - accuracy: 0.7992 - val_loss: 0.4213 - val_accuracy: 0.7933\n",
      "Epoch 80/100\n",
      "23/23 [==============================] - 0s 14ms/step - loss: 0.4424 - accuracy: 0.7949 - val_loss: 0.4570 - val_accuracy: 0.8045\n",
      "Epoch 81/100\n",
      "23/23 [==============================] - 0s 15ms/step - loss: 0.4677 - accuracy: 0.7837 - val_loss: 0.4307 - val_accuracy: 0.7933\n",
      "Epoch 82/100\n",
      "23/23 [==============================] - 0s 14ms/step - loss: 0.4382 - accuracy: 0.8006 - val_loss: 0.4301 - val_accuracy: 0.7933\n",
      "Epoch 83/100\n",
      "23/23 [==============================] - 0s 15ms/step - loss: 0.4420 - accuracy: 0.7978 - val_loss: 0.4318 - val_accuracy: 0.7933\n",
      "Epoch 84/100\n",
      "23/23 [==============================] - 0s 14ms/step - loss: 0.4356 - accuracy: 0.8104 - val_loss: 0.4372 - val_accuracy: 0.7933\n",
      "Epoch 85/100\n",
      "23/23 [==============================] - 0s 14ms/step - loss: 0.4404 - accuracy: 0.7978 - val_loss: 0.4291 - val_accuracy: 0.7877\n",
      "Epoch 86/100\n",
      "23/23 [==============================] - 0s 16ms/step - loss: 0.4397 - accuracy: 0.7935 - val_loss: 0.4351 - val_accuracy: 0.7877\n",
      "Epoch 87/100\n",
      "23/23 [==============================] - 0s 15ms/step - loss: 0.4385 - accuracy: 0.8062 - val_loss: 0.4327 - val_accuracy: 0.7765\n",
      "Epoch 88/100\n",
      "23/23 [==============================] - 0s 14ms/step - loss: 0.4396 - accuracy: 0.7935 - val_loss: 0.4293 - val_accuracy: 0.7821\n",
      "Epoch 89/100\n",
      "23/23 [==============================] - 0s 14ms/step - loss: 0.4390 - accuracy: 0.8104 - val_loss: 0.4270 - val_accuracy: 0.7877\n",
      "Epoch 90/100\n",
      "23/23 [==============================] - 0s 14ms/step - loss: 0.4394 - accuracy: 0.8034 - val_loss: 0.4312 - val_accuracy: 0.7821\n",
      "Epoch 91/100\n",
      "23/23 [==============================] - 0s 15ms/step - loss: 0.4385 - accuracy: 0.8062 - val_loss: 0.4289 - val_accuracy: 0.7821\n",
      "Epoch 92/100\n",
      "23/23 [==============================] - 0s 14ms/step - loss: 0.4430 - accuracy: 0.8034 - val_loss: 0.4445 - val_accuracy: 0.7765\n",
      "Epoch 93/100\n",
      "23/23 [==============================] - 0s 16ms/step - loss: 0.4467 - accuracy: 0.7963 - val_loss: 0.4277 - val_accuracy: 0.7877\n",
      "Epoch 94/100\n",
      "23/23 [==============================] - 0s 14ms/step - loss: 0.4360 - accuracy: 0.8104 - val_loss: 0.4302 - val_accuracy: 0.7821\n",
      "Epoch 95/100\n",
      "23/23 [==============================] - 0s 13ms/step - loss: 0.4441 - accuracy: 0.7879 - val_loss: 0.4273 - val_accuracy: 0.7933\n",
      "Epoch 96/100\n",
      "23/23 [==============================] - 0s 15ms/step - loss: 0.4407 - accuracy: 0.8104 - val_loss: 0.4314 - val_accuracy: 0.7933\n",
      "Epoch 97/100\n",
      "23/23 [==============================] - 0s 16ms/step - loss: 0.4375 - accuracy: 0.8034 - val_loss: 0.4350 - val_accuracy: 0.7765\n",
      "Epoch 98/100\n",
      "23/23 [==============================] - 0s 15ms/step - loss: 0.4357 - accuracy: 0.8048 - val_loss: 0.4439 - val_accuracy: 0.7933\n",
      "Epoch 99/100\n",
      "23/23 [==============================] - 0s 14ms/step - loss: 0.4375 - accuracy: 0.7879 - val_loss: 0.4276 - val_accuracy: 0.7933\n",
      "Epoch 100/100\n",
      "23/23 [==============================] - 0s 14ms/step - loss: 0.4414 - accuracy: 0.7992 - val_loss: 0.4276 - val_accuracy: 0.7877\n",
      "6/6 - 0s - loss: 0.4276 - accuracy: 0.7877 - 59ms/epoch - 10ms/step\n"
     ]
    },
    {
     "data": {
      "text/plain": [
       "'\\n\\n#history = model.fit(X_train, Y_train, batch_size=890, epochs=10, verbose=2, validation_data=(X_test1, Y_test1))\\nhistory = model.fit(X_train, Y_train, batch_size=890, epochs=10,\\n                    verbose=2, validation_data=X_test)\\n\\n'"
      ]
     },
     "execution_count": 175,
     "metadata": {},
     "output_type": "execute_result"
    }
   ],
   "source": [
    "\n",
    "model = Sequential([\n",
    "    layers.Dense(125, activation='sigmoid',batch_input_shape=(None,3), name=\"layer1\"),\n",
    "    layers.Dense(500, activation='sigmoid', name=\"layer2\"),\n",
    "    layers.Dense(750, activation='sigmoid', name=\"layer3\")\n",
    "])\n",
    "#model.add(tf.keras.layers.BatchNormalization())\n",
    "model.add(Dense(1, activation='sigmoid'))\n",
    "\n",
    "optimize = tf.keras.optimizers.Adam(learning_rate=1e-3)\n",
    "model.compile(loss=tf.keras.losses.BinaryCrossentropy(),\n",
    "              optimizer=optimize,\n",
    "              metrics=['accuracy'])\n",
    "\n",
    "\n",
    "history = model.fit(X_train1, Y_train1, epochs=100, validation_data=(X_test1, Y_test1))\n",
    "model.evaluate(X_test1, Y_test1, verbose=2)\n",
    "\n",
    "pred = model.predict(X_test1)\n",
    "\n",
    "\n",
    "\"\"\"\n",
    "\n",
    "#history = model.fit(X_train, Y_train, epochs=10, verbose=2, validation_data=(X_test1, Y_test1))\n",
    "history = model.fit(X_train, Y_train, batch_size=890, epochs=10,\n",
    "                    verbose=2, validation_data=X_test)\n",
    "\n",
    "\"\"\"\n"
   ]
  },
  {
   "cell_type": "code",
   "execution_count": 176,
   "metadata": {},
   "outputs": [
    {
     "data": {
      "image/png": "[encoded data removed]",
      "text/plain": [
       "<Figure size 640x480 with 4 Axes>"
      ]
     },
     "metadata": {},
     "output_type": "display_data"
    }
   ],
   "source": [
    "\n",
    "show_acc.plot(history)"
   ]
  },
  {
   "cell_type": "code",
   "execution_count": null,
   "metadata": {},
   "outputs": [
    {
     "name": "stdout",
     "output_type": "stream",
     "text": [
      "Model: \"sequential_19\"\n",
      "_________________________________________________________________\n",
      " Layer (type)                Output Shape              Param #   \n",
      "=================================================================\n",
      " layer1 (Dense)              (None, 500)               2000      \n",
      "                                                                 \n",
      " layer2 (Dense)              (None, 250)               125250    \n",
      "                                                                 \n",
      " layer3 (Dense)              (None, 125)               31375     \n",
      "                                                                 \n",
      " dense_20 (Dense)            (None, 1)                 126       \n",
      "                                                                 \n",
      "=================================================================\n",
      "Total params: 158,751\n",
      "Trainable params: 158,751\n",
      "Non-trainable params: 0\n",
      "_________________________________________________________________\n"
     ]
    }
   ],
   "source": [
    "model.summary()\n"
   ]
  },
  {
   "cell_type": "code",
   "execution_count": null,
   "metadata": {},
   "outputs": [
    {
     "name": "stdout",
     "output_type": "stream",
     "text": [
      "Model: \"sequential_1\"\n",
      "_________________________________________________________________\n",
      " Layer (type)                Output Shape              Param #   \n",
      "=================================================================\n",
      " layer1 (Dense)              (3, 2)                    8         \n",
      "                                                                 \n",
      " layer2 (Dense)              (3, 3)                    9         \n",
      "                                                                 \n",
      " layer3 (Dense)              (3, 4)                    16        \n",
      "                                                                 \n",
      " dense_1 (Dense)             (3, 2)                    10        \n",
      "                                                                 \n",
      "=================================================================\n",
      "Total params: 43\n",
      "Trainable params: 43\n",
      "Non-trainable params: 0\n",
      "_________________________________________________________________\n"
     ]
    }
   ],
   "source": [
    "# Define Sequential model with 3 layers\n",
    "model = keras.Sequential(\n",
    "    [\n",
    "        layers.Dense(2, activation=\"relu\", name=\"layer1\"),\n",
    "        layers.Dense(3, activation=\"relu\", name=\"layer2\"),\n",
    "        layers.Dense(4, name=\"layer3\"),\n",
    "    ]\n",
    ")\n",
    "model.add(layers.Dense(2, activation=\"relu\", input_shape=(4,)))\n",
    "# Call model on a test input\n",
    "x = tf.ones((3, 3))\n",
    "y = model(x)\n",
    "model.compile(\n",
    "    optimizer='rmsprop', loss='sparse_categorical_crossentropy', metrics='acc'\n",
    ")\n",
    "x = np.random.random((1000, 32))\n",
    "y = np.random.random((1000, 1))\n",
    "\n",
    "\n",
    "model.summary()\n"
   ]
  },
  {
   "cell_type": "code",
   "execution_count": null,
   "metadata": {},
   "outputs": [],
   "source": [
    "class CustomModel(keras.Model):\n",
    "    def train_step(self, data):\n",
    "        # Unpack the data. Its structure depends on your model and\n",
    "        # on what you pass to `fit()`.\n",
    "        x, y = data\n",
    "\n",
    "        with tf.GradientTape() as tape:\n",
    "            y_pred = self(x, training=True)  # Forward pass\n",
    "            # Compute the loss value\n",
    "            # (the loss function is configured in `compile()`)\n",
    "            loss = self.compiled_loss(\n",
    "                y, y_pred, regularization_losses=self.losses)\n",
    "\n",
    "        # Compute gradients\n",
    "        trainable_vars = self.trainable_variables\n",
    "        gradients = tape.gradient(loss, trainable_vars)\n",
    "        # Update weights\n",
    "        self.optimizer.apply_gradients(zip(gradients, trainable_vars))\n",
    "        # Update metrics (includes the metric that tracks the loss)\n",
    "        self.compiled_metrics.update_state(y, y_pred)\n",
    "        # Return a dict mapping metric names to current value\n",
    "        return {m.name: m.result() for m in self.metrics}\n"
   ]
  },
  {
   "cell_type": "code",
   "execution_count": null,
   "metadata": {},
   "outputs": [
    {
     "name": "stdout",
     "output_type": "stream",
     "text": [
      "Epoch 1/3\n",
      "32/32 [==============================] - 0s 1ms/step - loss: 0.2901 - mae: 0.4345\n",
      "Epoch 2/3\n",
      "32/32 [==============================] - 0s 2ms/step - loss: 0.2579 - mae: 0.4092\n",
      "Epoch 3/3\n",
      "32/32 [==============================] - 0s 979us/step - loss: 0.2472 - mae: 0.4005\n"
     ]
    },
    {
     "data": {
      "text/plain": [
       "<keras.callbacks.History at 0x1244e4a7100>"
      ]
     },
     "execution_count": 13,
     "metadata": {},
     "output_type": "execute_result"
    }
   ],
   "source": [
    "# Construct and compile an instance of CustomModel\n",
    "inputs = keras.Input(shape=(32,))\n",
    "outputs = keras.layers.Dense(1)(inputs)\n",
    "model = CustomModel(inputs, outputs)\n",
    "model.compile(optimizer=\"adam\", loss=\"mse\", metrics=[\"mae\"])\n",
    "\n",
    "# Just use `fit` as usual\n",
    "x = np.random.random((1000, 32))\n",
    "y = np.random.random((1000, 1))\n",
    "model.fit(x, y, epochs=3)\n"
   ]
  }
 ],
 "metadata": {
  "interpreter": {
   "hash": "5ceac2f8a3c77f838de45f753ad6f64273d731099a4ab6035460cd91680c2bdf"
  },
  "kernelspec": {
   "display_name": "Python 3.9.0 64-bit",
   "language": "python",
   "name": "python3"
  },
  "language_info": {
   "codemirror_mode": {
    "name": "ipython",
    "version": 3
   },
   "file_extension": ".py",
   "mimetype": "text/x-python",
   "name": "python",
   "nbconvert_exporter": "python",
   "pygments_lexer": "ipython3",
   "version": "3.9.0"
  },
  "orig_nbformat": 4
 },
 "nbformat": 4,
 "nbformat_minor": 2
}
